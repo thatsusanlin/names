{
 "cells": [
  {
   "cell_type": "markdown",
   "metadata": {},
   "source": [
    "The goal of this notebook was to use the SSA name database to help name our child. We wanted a name that invoked nature in some way, and ideally was also common enough to be recognized as a name but not extremely popular, and if possible, unisex."
   ]
  },
  {
   "cell_type": "code",
   "execution_count": 1,
   "metadata": {},
   "outputs": [],
   "source": [
    "import os\n",
    "import pandas as pd\n",
    "import matplotlib.pyplot as plt\n",
    "import seaborn as sns\n",
    "import numpy as np\n",
    "import random\n",
    "from datetime import datetime\n",
    "from nltk.corpus import wordnet"
   ]
  },
  {
   "cell_type": "markdown",
   "metadata": {},
   "source": [
    "Name data are downloaded from https://www.ssa.gov/oact/babynames/limits.html, and are stored in ./data/ with the format 'yobYYYY.txt', where YYYY is the 4-digit year.\n",
    "Columns are 'year', 'name', 'sex', 'number'."
   ]
  },
  {
   "cell_type": "code",
   "execution_count": 2,
   "metadata": {},
   "outputs": [],
   "source": [
    "allnamesdf = pd.DataFrame()\n",
    "\n",
    "for f in [f for f in os.listdir('./data/') if f[:3]=='yob']:\n",
    "    tmpdf = pd.read_csv(os.path.join('./data',f),names=['name','sex','number'])\n",
    "    tmpdf['year'] = f[3:7]\n",
    "    allnamesdf = pd.concat([allnamesdf,tmpdf])"
   ]
  },
  {
   "cell_type": "markdown",
   "metadata": {},
   "source": [
    "The plan of work will be to\n",
    "1. Reduce the list of names to a set that is (qualitatively) recognizable and not too popular\n",
    "1. Use wordnet to link potential names to nature-y senses\n",
    "1. If there are still many names left, determine which ones are unisex\n",
    "\n",
    "To begin, let's familiarize ourselves with the data before we start adding things. This dataframe has four columns:\n",
    "- year -- this is not a field from the SSA files directly, it was gathered from the naming of each separate file\n",
    "- name -- note that unique spellings of the same name are counted separately\n",
    "- sex assigned to the child at birth\n",
    "- number of times that the name appears for a given sex in a given year"
   ]
  },
  {
   "cell_type": "code",
   "execution_count": 3,
   "metadata": {},
   "outputs": [
    {
     "data": {
      "text/html": [
       "<div>\n",
       "<style scoped>\n",
       "    .dataframe tbody tr th:only-of-type {\n",
       "        vertical-align: middle;\n",
       "    }\n",
       "\n",
       "    .dataframe tbody tr th {\n",
       "        vertical-align: top;\n",
       "    }\n",
       "\n",
       "    .dataframe thead th {\n",
       "        text-align: right;\n",
       "    }\n",
       "</style>\n",
       "<table border=\"1\" class=\"dataframe\">\n",
       "  <thead>\n",
       "    <tr style=\"text-align: right;\">\n",
       "      <th></th>\n",
       "      <th>name</th>\n",
       "      <th>sex</th>\n",
       "      <th>number</th>\n",
       "      <th>year</th>\n",
       "    </tr>\n",
       "  </thead>\n",
       "  <tbody>\n",
       "    <tr>\n",
       "      <th>0</th>\n",
       "      <td>Emily</td>\n",
       "      <td>F</td>\n",
       "      <td>25957</td>\n",
       "      <td>2000</td>\n",
       "    </tr>\n",
       "    <tr>\n",
       "      <th>1</th>\n",
       "      <td>Hannah</td>\n",
       "      <td>F</td>\n",
       "      <td>23085</td>\n",
       "      <td>2000</td>\n",
       "    </tr>\n",
       "    <tr>\n",
       "      <th>2</th>\n",
       "      <td>Madison</td>\n",
       "      <td>F</td>\n",
       "      <td>19968</td>\n",
       "      <td>2000</td>\n",
       "    </tr>\n",
       "    <tr>\n",
       "      <th>3</th>\n",
       "      <td>Ashley</td>\n",
       "      <td>F</td>\n",
       "      <td>17997</td>\n",
       "      <td>2000</td>\n",
       "    </tr>\n",
       "    <tr>\n",
       "      <th>4</th>\n",
       "      <td>Sarah</td>\n",
       "      <td>F</td>\n",
       "      <td>17708</td>\n",
       "      <td>2000</td>\n",
       "    </tr>\n",
       "  </tbody>\n",
       "</table>\n",
       "</div>"
      ],
      "text/plain": [
       "      name sex  number  year\n",
       "0    Emily   F   25957  2000\n",
       "1   Hannah   F   23085  2000\n",
       "2  Madison   F   19968  2000\n",
       "3   Ashley   F   17997  2000\n",
       "4    Sarah   F   17708  2000"
      ]
     },
     "execution_count": 3,
     "metadata": {},
     "output_type": "execute_result"
    }
   ],
   "source": [
    "allnamesdf.head()"
   ]
  },
  {
   "cell_type": "markdown",
   "metadata": {},
   "source": [
    "## 1. Restrict to \"recognizable but not too popular\" names\n",
    "\n",
    "Here we'll explore the data a little to determine (qualitatively) what feels \"recognizable but not too popular\", with user input. Maybe let's also restrict this to the last 20 years."
   ]
  },
  {
   "cell_type": "code",
   "execution_count": 4,
   "metadata": {},
   "outputs": [
    {
     "data": {
      "text/html": [
       "<div>\n",
       "<style scoped>\n",
       "    .dataframe tbody tr th:only-of-type {\n",
       "        vertical-align: middle;\n",
       "    }\n",
       "\n",
       "    .dataframe tbody tr th {\n",
       "        vertical-align: top;\n",
       "    }\n",
       "\n",
       "    .dataframe thead th {\n",
       "        text-align: right;\n",
       "    }\n",
       "</style>\n",
       "<table border=\"1\" class=\"dataframe\">\n",
       "  <thead>\n",
       "    <tr style=\"text-align: right;\">\n",
       "      <th></th>\n",
       "      <th>name</th>\n",
       "      <th>sex</th>\n",
       "      <th>number</th>\n",
       "      <th>year</th>\n",
       "      <th>current</th>\n",
       "    </tr>\n",
       "  </thead>\n",
       "  <tbody>\n",
       "    <tr>\n",
       "      <th>0</th>\n",
       "      <td>Emily</td>\n",
       "      <td>F</td>\n",
       "      <td>25957</td>\n",
       "      <td>2000</td>\n",
       "      <td>False</td>\n",
       "    </tr>\n",
       "    <tr>\n",
       "      <th>1</th>\n",
       "      <td>Hannah</td>\n",
       "      <td>F</td>\n",
       "      <td>23085</td>\n",
       "      <td>2000</td>\n",
       "      <td>False</td>\n",
       "    </tr>\n",
       "    <tr>\n",
       "      <th>2</th>\n",
       "      <td>Madison</td>\n",
       "      <td>F</td>\n",
       "      <td>19968</td>\n",
       "      <td>2000</td>\n",
       "      <td>False</td>\n",
       "    </tr>\n",
       "    <tr>\n",
       "      <th>3</th>\n",
       "      <td>Ashley</td>\n",
       "      <td>F</td>\n",
       "      <td>17997</td>\n",
       "      <td>2000</td>\n",
       "      <td>False</td>\n",
       "    </tr>\n",
       "    <tr>\n",
       "      <th>4</th>\n",
       "      <td>Sarah</td>\n",
       "      <td>F</td>\n",
       "      <td>17708</td>\n",
       "      <td>2000</td>\n",
       "      <td>False</td>\n",
       "    </tr>\n",
       "  </tbody>\n",
       "</table>\n",
       "</div>"
      ],
      "text/plain": [
       "      name sex  number  year  current\n",
       "0    Emily   F   25957  2000    False\n",
       "1   Hannah   F   23085  2000    False\n",
       "2  Madison   F   19968  2000    False\n",
       "3   Ashley   F   17997  2000    False\n",
       "4    Sarah   F   17708  2000    False"
      ]
     },
     "execution_count": 4,
     "metadata": {},
     "output_type": "execute_result"
    }
   ],
   "source": [
    "limityear = datetime.now().year-20\n",
    "allnamesdf['current'] = allnamesdf.year.apply(lambda x: int(x)>limityear)\n",
    "allnamesdf.head()"
   ]
  },
  {
   "cell_type": "code",
   "execution_count": 5,
   "metadata": {},
   "outputs": [
    {
     "data": {
      "text/html": [
       "<div>\n",
       "<style scoped>\n",
       "    .dataframe tbody tr th:only-of-type {\n",
       "        vertical-align: middle;\n",
       "    }\n",
       "\n",
       "    .dataframe tbody tr th {\n",
       "        vertical-align: top;\n",
       "    }\n",
       "\n",
       "    .dataframe thead th {\n",
       "        text-align: right;\n",
       "    }\n",
       "</style>\n",
       "<table border=\"1\" class=\"dataframe\">\n",
       "  <thead>\n",
       "    <tr style=\"text-align: right;\">\n",
       "      <th></th>\n",
       "      <th>name</th>\n",
       "      <th>sex</th>\n",
       "      <th>current</th>\n",
       "      <th>number</th>\n",
       "    </tr>\n",
       "  </thead>\n",
       "  <tbody>\n",
       "    <tr>\n",
       "      <th>0</th>\n",
       "      <td>Aaban</td>\n",
       "      <td>M</td>\n",
       "      <td>True</td>\n",
       "      <td>120</td>\n",
       "    </tr>\n",
       "    <tr>\n",
       "      <th>1</th>\n",
       "      <td>Aabha</td>\n",
       "      <td>F</td>\n",
       "      <td>True</td>\n",
       "      <td>51</td>\n",
       "    </tr>\n",
       "    <tr>\n",
       "      <th>2</th>\n",
       "      <td>Aabid</td>\n",
       "      <td>M</td>\n",
       "      <td>True</td>\n",
       "      <td>16</td>\n",
       "    </tr>\n",
       "    <tr>\n",
       "      <th>3</th>\n",
       "      <td>Aabidah</td>\n",
       "      <td>F</td>\n",
       "      <td>True</td>\n",
       "      <td>5</td>\n",
       "    </tr>\n",
       "    <tr>\n",
       "      <th>4</th>\n",
       "      <td>Aabir</td>\n",
       "      <td>M</td>\n",
       "      <td>True</td>\n",
       "      <td>10</td>\n",
       "    </tr>\n",
       "  </tbody>\n",
       "</table>\n",
       "</div>"
      ],
      "text/plain": [
       "      name sex  current  number\n",
       "0    Aaban   M     True     120\n",
       "1    Aabha   F     True      51\n",
       "2    Aabid   M     True      16\n",
       "3  Aabidah   F     True       5\n",
       "4    Aabir   M     True      10"
      ]
     },
     "execution_count": 5,
     "metadata": {},
     "output_type": "execute_result"
    }
   ],
   "source": [
    "namestotaldf = allnamesdf.groupby(['name','sex','current']).sum().reset_index()\n",
    "namestotaldf.head()"
   ]
  },
  {
   "cell_type": "markdown",
   "metadata": {},
   "source": [
    "Here's what the distribution of \"current\" names looks like. Not surprisingly it is *heavily* skewed left."
   ]
  },
  {
   "cell_type": "code",
   "execution_count": 6,
   "metadata": {},
   "outputs": [
    {
     "data": {
      "text/plain": [
       "<AxesSubplot:xlabel='number', ylabel='Count'>"
      ]
     },
     "execution_count": 6,
     "metadata": {},
     "output_type": "execute_result"
    },
    {
     "data": {
      "image/png": "[encoded data removed]",
      "text/plain": [
       "<Figure size 640x480 with 1 Axes>"
      ]
     },
     "metadata": {},
     "output_type": "display_data"
    }
   ],
   "source": [
    "sns.histplot(data=namestotaldf[namestotaldf.current], x='number', hue='sex', element='step')"
   ]
  },
  {
   "cell_type": "markdown",
   "metadata": {},
   "source": [
    "Here's another look, with a log scale on the x-axis. We can start seeing something of a shape now! Let's start by looking at the names that show up at least 100 times in the data. That's everything to the right of the vertical black line."
   ]
  },
  {
   "cell_type": "code",
   "execution_count": 7,
   "metadata": {},
   "outputs": [
    {
     "data": {
      "text/plain": [
       "<matplotlib.lines.Line2D at 0x7fcda7d3f220>"
      ]
     },
     "execution_count": 7,
     "metadata": {},
     "output_type": "execute_result"
    },
    {
     "data": {
      "image/png": "[encoded data removed]",
      "text/plain": [
       "<Figure size 640x480 with 1 Axes>"
      ]
     },
     "metadata": {},
     "output_type": "display_data"
    }
   ],
   "source": [
    "sns.histplot(data=namestotaldf[namestotaldf.current], x='number', hue='sex', element='step', log_scale=True)\n",
    "plt.axvline(100, 0, 1, color='black')"
   ]
  },
  {
   "cell_type": "code",
   "execution_count": 8,
   "metadata": {},
   "outputs": [
    {
     "data": {
      "text/html": [
       "<div>\n",
       "<style scoped>\n",
       "    .dataframe tbody tr th:only-of-type {\n",
       "        vertical-align: middle;\n",
       "    }\n",
       "\n",
       "    .dataframe tbody tr th {\n",
       "        vertical-align: top;\n",
       "    }\n",
       "\n",
       "    .dataframe thead th {\n",
       "        text-align: right;\n",
       "    }\n",
       "</style>\n",
       "<table border=\"1\" class=\"dataframe\">\n",
       "  <thead>\n",
       "    <tr style=\"text-align: right;\">\n",
       "      <th></th>\n",
       "      <th>name</th>\n",
       "      <th>sex</th>\n",
       "      <th>current</th>\n",
       "      <th>number</th>\n",
       "    </tr>\n",
       "  </thead>\n",
       "  <tbody>\n",
       "    <tr>\n",
       "      <th>39567</th>\n",
       "      <td>Deysy</td>\n",
       "      <td>F</td>\n",
       "      <td>True</td>\n",
       "      <td>101</td>\n",
       "    </tr>\n",
       "    <tr>\n",
       "      <th>87010</th>\n",
       "      <td>Lamel</td>\n",
       "      <td>M</td>\n",
       "      <td>True</td>\n",
       "      <td>101</td>\n",
       "    </tr>\n",
       "    <tr>\n",
       "      <th>87016</th>\n",
       "      <td>Lamere</td>\n",
       "      <td>M</td>\n",
       "      <td>True</td>\n",
       "      <td>101</td>\n",
       "    </tr>\n",
       "    <tr>\n",
       "      <th>35109</th>\n",
       "      <td>Dashley</td>\n",
       "      <td>F</td>\n",
       "      <td>True</td>\n",
       "      <td>101</td>\n",
       "    </tr>\n",
       "    <tr>\n",
       "      <th>35642</th>\n",
       "      <td>Dawt</td>\n",
       "      <td>F</td>\n",
       "      <td>True</td>\n",
       "      <td>101</td>\n",
       "    </tr>\n",
       "    <tr>\n",
       "      <th>111545</th>\n",
       "      <td>Nole</td>\n",
       "      <td>M</td>\n",
       "      <td>True</td>\n",
       "      <td>101</td>\n",
       "    </tr>\n",
       "    <tr>\n",
       "      <th>20054</th>\n",
       "      <td>Braeden</td>\n",
       "      <td>F</td>\n",
       "      <td>True</td>\n",
       "      <td>101</td>\n",
       "    </tr>\n",
       "    <tr>\n",
       "      <th>151111</th>\n",
       "      <td>Winslet</td>\n",
       "      <td>F</td>\n",
       "      <td>True</td>\n",
       "      <td>101</td>\n",
       "    </tr>\n",
       "    <tr>\n",
       "      <th>139441</th>\n",
       "      <td>Tanveer</td>\n",
       "      <td>M</td>\n",
       "      <td>True</td>\n",
       "      <td>101</td>\n",
       "    </tr>\n",
       "    <tr>\n",
       "      <th>51350</th>\n",
       "      <td>Garv</td>\n",
       "      <td>M</td>\n",
       "      <td>True</td>\n",
       "      <td>101</td>\n",
       "    </tr>\n",
       "    <tr>\n",
       "      <th>19737</th>\n",
       "      <td>Bohannon</td>\n",
       "      <td>M</td>\n",
       "      <td>True</td>\n",
       "      <td>101</td>\n",
       "    </tr>\n",
       "    <tr>\n",
       "      <th>5087</th>\n",
       "      <td>Aleja</td>\n",
       "      <td>F</td>\n",
       "      <td>True</td>\n",
       "      <td>101</td>\n",
       "    </tr>\n",
       "    <tr>\n",
       "      <th>39768</th>\n",
       "      <td>Dhrithi</td>\n",
       "      <td>F</td>\n",
       "      <td>True</td>\n",
       "      <td>101</td>\n",
       "    </tr>\n",
       "    <tr>\n",
       "      <th>5058</th>\n",
       "      <td>Aleila</td>\n",
       "      <td>F</td>\n",
       "      <td>True</td>\n",
       "      <td>101</td>\n",
       "    </tr>\n",
       "    <tr>\n",
       "      <th>149812</th>\n",
       "      <td>Vontrell</td>\n",
       "      <td>M</td>\n",
       "      <td>True</td>\n",
       "      <td>101</td>\n",
       "    </tr>\n",
       "    <tr>\n",
       "      <th>89724</th>\n",
       "      <td>Legacee</td>\n",
       "      <td>F</td>\n",
       "      <td>True</td>\n",
       "      <td>101</td>\n",
       "    </tr>\n",
       "    <tr>\n",
       "      <th>89900</th>\n",
       "      <td>Leili</td>\n",
       "      <td>F</td>\n",
       "      <td>True</td>\n",
       "      <td>101</td>\n",
       "    </tr>\n",
       "    <tr>\n",
       "      <th>88223</th>\n",
       "      <td>Latavion</td>\n",
       "      <td>M</td>\n",
       "      <td>True</td>\n",
       "      <td>101</td>\n",
       "    </tr>\n",
       "    <tr>\n",
       "      <th>90221</th>\n",
       "      <td>Lenise</td>\n",
       "      <td>F</td>\n",
       "      <td>True</td>\n",
       "      <td>101</td>\n",
       "    </tr>\n",
       "    <tr>\n",
       "      <th>139423</th>\n",
       "      <td>Tansy</td>\n",
       "      <td>F</td>\n",
       "      <td>True</td>\n",
       "      <td>101</td>\n",
       "    </tr>\n",
       "  </tbody>\n",
       "</table>\n",
       "</div>"
      ],
      "text/plain": [
       "            name sex  current  number\n",
       "39567      Deysy   F     True     101\n",
       "87010      Lamel   M     True     101\n",
       "87016     Lamere   M     True     101\n",
       "35109    Dashley   F     True     101\n",
       "35642       Dawt   F     True     101\n",
       "111545      Nole   M     True     101\n",
       "20054    Braeden   F     True     101\n",
       "151111   Winslet   F     True     101\n",
       "139441   Tanveer   M     True     101\n",
       "51350       Garv   M     True     101\n",
       "19737   Bohannon   M     True     101\n",
       "5087       Aleja   F     True     101\n",
       "39768    Dhrithi   F     True     101\n",
       "5058      Aleila   F     True     101\n",
       "149812  Vontrell   M     True     101\n",
       "89724    Legacee   F     True     101\n",
       "89900      Leili   F     True     101\n",
       "88223   Latavion   M     True     101\n",
       "90221     Lenise   F     True     101\n",
       "139423     Tansy   F     True     101"
      ]
     },
     "execution_count": 8,
     "metadata": {},
     "output_type": "execute_result"
    }
   ],
   "source": [
    "namestotaldf[(namestotaldf.current) & (namestotaldf.number>100)].sort_values('number').head(20)"
   ]
  },
  {
   "cell_type": "markdown",
   "metadata": {},
   "source": [
    "That's still a bit on the unknown side for us so let's bump that up a little. That's better! We'll go with 400."
   ]
  },
  {
   "cell_type": "code",
   "execution_count": 9,
   "metadata": {},
   "outputs": [
    {
     "data": {
      "text/html": [
       "<div>\n",
       "<style scoped>\n",
       "    .dataframe tbody tr th:only-of-type {\n",
       "        vertical-align: middle;\n",
       "    }\n",
       "\n",
       "    .dataframe tbody tr th {\n",
       "        vertical-align: top;\n",
       "    }\n",
       "\n",
       "    .dataframe thead th {\n",
       "        text-align: right;\n",
       "    }\n",
       "</style>\n",
       "<table border=\"1\" class=\"dataframe\">\n",
       "  <thead>\n",
       "    <tr style=\"text-align: right;\">\n",
       "      <th></th>\n",
       "      <th>name</th>\n",
       "      <th>sex</th>\n",
       "      <th>current</th>\n",
       "      <th>number</th>\n",
       "    </tr>\n",
       "  </thead>\n",
       "  <tbody>\n",
       "    <tr>\n",
       "      <th>36069</th>\n",
       "      <td>Deakon</td>\n",
       "      <td>M</td>\n",
       "      <td>True</td>\n",
       "      <td>401</td>\n",
       "    </tr>\n",
       "    <tr>\n",
       "      <th>30031</th>\n",
       "      <td>Codie</td>\n",
       "      <td>M</td>\n",
       "      <td>True</td>\n",
       "      <td>401</td>\n",
       "    </tr>\n",
       "    <tr>\n",
       "      <th>96434</th>\n",
       "      <td>Makensie</td>\n",
       "      <td>F</td>\n",
       "      <td>True</td>\n",
       "      <td>401</td>\n",
       "    </tr>\n",
       "    <tr>\n",
       "      <th>121634</th>\n",
       "      <td>Rhythm</td>\n",
       "      <td>F</td>\n",
       "      <td>True</td>\n",
       "      <td>401</td>\n",
       "    </tr>\n",
       "    <tr>\n",
       "      <th>1066</th>\n",
       "      <td>Abigal</td>\n",
       "      <td>F</td>\n",
       "      <td>True</td>\n",
       "      <td>401</td>\n",
       "    </tr>\n",
       "    <tr>\n",
       "      <th>65994</th>\n",
       "      <td>Jaydee</td>\n",
       "      <td>F</td>\n",
       "      <td>True</td>\n",
       "      <td>401</td>\n",
       "    </tr>\n",
       "    <tr>\n",
       "      <th>23200</th>\n",
       "      <td>Caira</td>\n",
       "      <td>F</td>\n",
       "      <td>True</td>\n",
       "      <td>401</td>\n",
       "    </tr>\n",
       "    <tr>\n",
       "      <th>116040</th>\n",
       "      <td>Phinehas</td>\n",
       "      <td>M</td>\n",
       "      <td>True</td>\n",
       "      <td>401</td>\n",
       "    </tr>\n",
       "    <tr>\n",
       "      <th>101373</th>\n",
       "      <td>Mazi</td>\n",
       "      <td>M</td>\n",
       "      <td>True</td>\n",
       "      <td>401</td>\n",
       "    </tr>\n",
       "    <tr>\n",
       "      <th>69253</th>\n",
       "      <td>Jhase</td>\n",
       "      <td>M</td>\n",
       "      <td>True</td>\n",
       "      <td>401</td>\n",
       "    </tr>\n",
       "    <tr>\n",
       "      <th>91168</th>\n",
       "      <td>Liam</td>\n",
       "      <td>F</td>\n",
       "      <td>True</td>\n",
       "      <td>401</td>\n",
       "    </tr>\n",
       "    <tr>\n",
       "      <th>35260</th>\n",
       "      <td>Davante</td>\n",
       "      <td>M</td>\n",
       "      <td>True</td>\n",
       "      <td>401</td>\n",
       "    </tr>\n",
       "    <tr>\n",
       "      <th>149697</th>\n",
       "      <td>Vlad</td>\n",
       "      <td>M</td>\n",
       "      <td>True</td>\n",
       "      <td>401</td>\n",
       "    </tr>\n",
       "    <tr>\n",
       "      <th>21214</th>\n",
       "      <td>Breya</td>\n",
       "      <td>F</td>\n",
       "      <td>True</td>\n",
       "      <td>401</td>\n",
       "    </tr>\n",
       "    <tr>\n",
       "      <th>108862</th>\n",
       "      <td>Navin</td>\n",
       "      <td>M</td>\n",
       "      <td>True</td>\n",
       "      <td>401</td>\n",
       "    </tr>\n",
       "    <tr>\n",
       "      <th>131279</th>\n",
       "      <td>Shaul</td>\n",
       "      <td>M</td>\n",
       "      <td>True</td>\n",
       "      <td>401</td>\n",
       "    </tr>\n",
       "    <tr>\n",
       "      <th>86283</th>\n",
       "      <td>Lady</td>\n",
       "      <td>F</td>\n",
       "      <td>True</td>\n",
       "      <td>401</td>\n",
       "    </tr>\n",
       "    <tr>\n",
       "      <th>85503</th>\n",
       "      <td>Kymberly</td>\n",
       "      <td>F</td>\n",
       "      <td>True</td>\n",
       "      <td>401</td>\n",
       "    </tr>\n",
       "    <tr>\n",
       "      <th>76617</th>\n",
       "      <td>Kashtyn</td>\n",
       "      <td>M</td>\n",
       "      <td>True</td>\n",
       "      <td>401</td>\n",
       "    </tr>\n",
       "    <tr>\n",
       "      <th>76079</th>\n",
       "      <td>Karishma</td>\n",
       "      <td>F</td>\n",
       "      <td>True</td>\n",
       "      <td>401</td>\n",
       "    </tr>\n",
       "  </tbody>\n",
       "</table>\n",
       "</div>"
      ],
      "text/plain": [
       "            name sex  current  number\n",
       "36069     Deakon   M     True     401\n",
       "30031      Codie   M     True     401\n",
       "96434   Makensie   F     True     401\n",
       "121634    Rhythm   F     True     401\n",
       "1066      Abigal   F     True     401\n",
       "65994     Jaydee   F     True     401\n",
       "23200      Caira   F     True     401\n",
       "116040  Phinehas   M     True     401\n",
       "101373      Mazi   M     True     401\n",
       "69253      Jhase   M     True     401\n",
       "91168       Liam   F     True     401\n",
       "35260    Davante   M     True     401\n",
       "149697      Vlad   M     True     401\n",
       "21214      Breya   F     True     401\n",
       "108862     Navin   M     True     401\n",
       "131279     Shaul   M     True     401\n",
       "86283       Lady   F     True     401\n",
       "85503   Kymberly   F     True     401\n",
       "76617    Kashtyn   M     True     401\n",
       "76079   Karishma   F     True     401"
      ]
     },
     "execution_count": 9,
     "metadata": {},
     "output_type": "execute_result"
    }
   ],
   "source": [
    "namestotaldf[(namestotaldf.current) & (namestotaldf.number>400)].sort_values('number').head(20)"
   ]
  },
  {
   "cell_type": "markdown",
   "metadata": {},
   "source": [
    "For \"too popular\", somewhat arbitrarily, not include the most popular 30 names."
   ]
  },
  {
   "cell_type": "code",
   "execution_count": 10,
   "metadata": {},
   "outputs": [],
   "source": [
    "toplimit = int(namestotaldf[(namestotaldf.current)].sort_values('number', ascending=False)[30:31].number)\n",
    "bottomlimit = 400"
   ]
  },
  {
   "cell_type": "code",
   "execution_count": 11,
   "metadata": {},
   "outputs": [
    {
     "data": {
      "text/html": [
       "<div>\n",
       "<style scoped>\n",
       "    .dataframe tbody tr th:only-of-type {\n",
       "        vertical-align: middle;\n",
       "    }\n",
       "\n",
       "    .dataframe tbody tr th {\n",
       "        vertical-align: top;\n",
       "    }\n",
       "\n",
       "    .dataframe thead th {\n",
       "        text-align: right;\n",
       "    }\n",
       "</style>\n",
       "<table border=\"1\" class=\"dataframe\">\n",
       "  <thead>\n",
       "    <tr style=\"text-align: right;\">\n",
       "      <th></th>\n",
       "      <th>name</th>\n",
       "      <th>sex</th>\n",
       "      <th>current</th>\n",
       "      <th>number</th>\n",
       "    </tr>\n",
       "  </thead>\n",
       "  <tbody>\n",
       "    <tr>\n",
       "      <th>16</th>\n",
       "      <td>Aaden</td>\n",
       "      <td>M</td>\n",
       "      <td>True</td>\n",
       "      <td>4993</td>\n",
       "    </tr>\n",
       "    <tr>\n",
       "      <th>28</th>\n",
       "      <td>Aadhya</td>\n",
       "      <td>F</td>\n",
       "      <td>True</td>\n",
       "      <td>2408</td>\n",
       "    </tr>\n",
       "    <tr>\n",
       "      <th>33</th>\n",
       "      <td>Aadi</td>\n",
       "      <td>M</td>\n",
       "      <td>True</td>\n",
       "      <td>988</td>\n",
       "    </tr>\n",
       "    <tr>\n",
       "      <th>41</th>\n",
       "      <td>Aadit</td>\n",
       "      <td>M</td>\n",
       "      <td>True</td>\n",
       "      <td>442</td>\n",
       "    </tr>\n",
       "    <tr>\n",
       "      <th>46</th>\n",
       "      <td>Aaditya</td>\n",
       "      <td>M</td>\n",
       "      <td>True</td>\n",
       "      <td>577</td>\n",
       "    </tr>\n",
       "    <tr>\n",
       "      <th>...</th>\n",
       "      <td>...</td>\n",
       "      <td>...</td>\n",
       "      <td>...</td>\n",
       "      <td>...</td>\n",
       "    </tr>\n",
       "    <tr>\n",
       "      <th>157303</th>\n",
       "      <td>Zyon</td>\n",
       "      <td>F</td>\n",
       "      <td>True</td>\n",
       "      <td>626</td>\n",
       "    </tr>\n",
       "    <tr>\n",
       "      <th>157305</th>\n",
       "      <td>Zyon</td>\n",
       "      <td>M</td>\n",
       "      <td>True</td>\n",
       "      <td>2920</td>\n",
       "    </tr>\n",
       "    <tr>\n",
       "      <th>157313</th>\n",
       "      <td>Zyonna</td>\n",
       "      <td>F</td>\n",
       "      <td>True</td>\n",
       "      <td>520</td>\n",
       "    </tr>\n",
       "    <tr>\n",
       "      <th>157324</th>\n",
       "      <td>Zyra</td>\n",
       "      <td>F</td>\n",
       "      <td>True</td>\n",
       "      <td>743</td>\n",
       "    </tr>\n",
       "    <tr>\n",
       "      <th>157342</th>\n",
       "      <td>Zyriah</td>\n",
       "      <td>F</td>\n",
       "      <td>True</td>\n",
       "      <td>444</td>\n",
       "    </tr>\n",
       "  </tbody>\n",
       "</table>\n",
       "<p>10665 rows × 4 columns</p>\n",
       "</div>"
      ],
      "text/plain": [
       "           name sex  current  number\n",
       "16        Aaden   M     True    4993\n",
       "28       Aadhya   F     True    2408\n",
       "33         Aadi   M     True     988\n",
       "41        Aadit   M     True     442\n",
       "46      Aaditya   M     True     577\n",
       "...         ...  ..      ...     ...\n",
       "157303     Zyon   F     True     626\n",
       "157305     Zyon   M     True    2920\n",
       "157313   Zyonna   F     True     520\n",
       "157324     Zyra   F     True     743\n",
       "157342   Zyriah   F     True     444\n",
       "\n",
       "[10665 rows x 4 columns]"
      ]
     },
     "execution_count": 11,
     "metadata": {},
     "output_type": "execute_result"
    }
   ],
   "source": [
    "namesdf = namestotaldf[(namestotaldf.current) & (namestotaldf.number>bottomlimit) & (namestotaldf.number<toplimit)]\n",
    "namesdf"
   ]
  },
  {
   "cell_type": "markdown",
   "metadata": {},
   "source": [
    "## 2. Check for links with nature"
   ]
  },
  {
   "cell_type": "markdown",
   "metadata": {},
   "source": [
    "Now let's see which (if any) of these names are related to trees and/or nature."
   ]
  },
  {
   "cell_type": "code",
   "execution_count": 12,
   "metadata": {},
   "outputs": [
    {
     "name": "stderr",
     "output_type": "stream",
     "text": [
      "[nltk_data] Downloading package omw-1.4 to\n",
      "[nltk_data]     /Users/susanlin/nltk_data...\n",
      "[nltk_data]   Package omw-1.4 is already up-to-date!\n"
     ]
    },
    {
     "data": {
      "text/plain": [
       "True"
      ]
     },
     "execution_count": 12,
     "metadata": {},
     "output_type": "execute_result"
    }
   ],
   "source": [
    "# Download the latest NTLK data\n",
    "# Next cell might ask for an update\n",
    "import nltk\n",
    "nltk.download('omw-1.4')"
   ]
  },
  {
   "cell_type": "markdown",
   "metadata": {},
   "source": [
    "Lookup words with `wordnet.synsets()`.\n",
    "This produces a list of senses that can be accessed with `sense.definition()`.\n",
    "It's important to look at the senses available and select the specific one(s) we mean, because words can have many different senses.\n",
    "Here's a small example with the word \"plant\"."
   ]
  },
  {
   "cell_type": "code",
   "execution_count": 13,
   "metadata": {},
   "outputs": [
    {
     "data": {
      "text/plain": [
       "[Synset('plant.n.01'),\n",
       " Synset('plant.n.02'),\n",
       " Synset('plant.n.03'),\n",
       " Synset('plant.n.04'),\n",
       " Synset('plant.v.01'),\n",
       " Synset('implant.v.01'),\n",
       " Synset('establish.v.02'),\n",
       " Synset('plant.v.04'),\n",
       " Synset('plant.v.05'),\n",
       " Synset('plant.v.06')]"
      ]
     },
     "execution_count": 13,
     "metadata": {},
     "output_type": "execute_result"
    }
   ],
   "source": [
    "wordnet.synsets('plant')"
   ]
  },
  {
   "cell_type": "markdown",
   "metadata": {},
   "source": [
    "wordnet.synset() returns a list of senses for the given word, but to get more information about each sense, we can use the `definition` method for senses."
   ]
  },
  {
   "cell_type": "code",
   "execution_count": 14,
   "metadata": {},
   "outputs": [
    {
     "data": {
      "text/plain": [
       "['buildings for carrying on industrial labor',\n",
       " '(botany) a living organism lacking the power of locomotion',\n",
       " 'an actor situated in the audience whose acting is rehearsed but seems spontaneous to the audience',\n",
       " 'something planted secretly for discovery by another',\n",
       " 'put or set (seeds, seedlings, or plants) into the ground',\n",
       " 'fix or set securely or deeply',\n",
       " 'set up or lay the groundwork for',\n",
       " 'place into a river',\n",
       " 'place something or someone in a certain position in order to secretly observe or deceive',\n",
       " 'put firmly in the mind']"
      ]
     },
     "execution_count": 14,
     "metadata": {},
     "output_type": "execute_result"
    }
   ],
   "source": [
    "[s.definition() for s in wordnet.synsets('plant')]"
   ]
  },
  {
   "cell_type": "markdown",
   "metadata": {},
   "source": [
    "Make a function to give relatedness between a name and a sense. For this to work well, the names will of course need to be real (if infrequent) English words."
   ]
  },
  {
   "cell_type": "code",
   "execution_count": 15,
   "metadata": {},
   "outputs": [],
   "source": [
    "# variables: a NAME (str) and a SENSE (a WordNet sense)\n",
    "# returns: the strength of the shortest similarity path between the NAME and SENSE; returns 0 if no path is found\n",
    "def relatedness(name, sense):\n",
    "    similarity = 0\n",
    "    for s in wordnet.synsets(name): # for each sense of the NAME\n",
    "        tmp = s.path_similarity(sense)\n",
    "        if tmp==None:\n",
    "            break\n",
    "        if tmp > similarity:\n",
    "            similarity = tmp\n",
    "    return similarity"
   ]
  },
  {
   "cell_type": "markdown",
   "metadata": {},
   "source": [
    "### Short example 1\n",
    "\n",
    "Here's a short example, comparing a set of names of varying relatedness to 'water' (meaning a body of water). First we'll figure out what the sense we want to invoke is."
   ]
  },
  {
   "cell_type": "code",
   "execution_count": 16,
   "metadata": {},
   "outputs": [
    {
     "name": "stdout",
     "output_type": "stream",
     "text": [
      "the part of the earth's surface covered with water (such as a river or lake or ocean)\n"
     ]
    }
   ],
   "source": [
    "watertestsense = wordnet.synsets('water')[1]\n",
    "print(watertestsense.definition())"
   ]
  },
  {
   "cell_type": "markdown",
   "metadata": {},
   "source": [
    "Next put together a list of potential names, some of which have obvious relationships with the sense, some of which (we expect) don't."
   ]
  },
  {
   "cell_type": "code",
   "execution_count": 17,
   "metadata": {},
   "outputs": [
    {
     "name": "stdout",
     "output_type": "stream",
     "text": [
      "water and River relatedness: 0.3333333333333333\n",
      "water and Ocean relatedness: 0.5\n",
      "water and Robin relatedness: 0.06666666666666667\n",
      "water and Clay relatedness: 0.125\n",
      "water and Megan relatedness: 0\n",
      "water and Brook relatedness: 0.3333333333333333\n"
     ]
    }
   ],
   "source": [
    "names = ['River', 'Ocean', 'Robin', 'Clay', 'Megan', 'Brook']\n",
    "\n",
    "for n in names:\n",
    "    print(\"water and \"+n+\" relatedness: \"+str(relatedness(n, watertestsense)))"
   ]
  },
  {
   "cell_type": "markdown",
   "metadata": {},
   "source": [
    "Some of these are surprising! Let's look at some of the senses of \"Robin\" to try to understand where the similarity arises."
   ]
  },
  {
   "cell_type": "code",
   "execution_count": 18,
   "metadata": {},
   "outputs": [
    {
     "name": "stdout",
     "output_type": "stream",
     "text": [
      "small Old World songbird with a reddish breast\n",
      "large American thrush having a rust-red breast and abdomen\n"
     ]
    }
   ],
   "source": [
    "for s in wordnet.synsets('Robin'):\n",
    "    print(s.definition())"
   ]
  },
  {
   "cell_type": "markdown",
   "metadata": {},
   "source": [
    "### Example 2\n",
    "\n",
    "Demonstrating that our function `relatedness` does find the maximum relatedness between the two words"
   ]
  },
  {
   "cell_type": "code",
   "execution_count": 19,
   "metadata": {},
   "outputs": [
    {
     "name": "stdout",
     "output_type": "stream",
     "text": [
      "['warm-blooded egg-laying vertebrates characterized by feathers and forelimbs modified as wings', 'the flesh of a bird or fowl (wild or domestic) used as food', 'informal terms for a (young) woman', 'a cry or noise made to express displeasure or contempt', 'badminton equipment consisting of a ball of cork or rubber with a crown of feathers', 'watch and study birds in their natural habitat']\n"
     ]
    }
   ],
   "source": [
    "print([s.definition() for s in wordnet.synsets('bird')])\n",
    "bird = wordnet.synsets('bird')[0]"
   ]
  },
  {
   "cell_type": "code",
   "execution_count": 20,
   "metadata": {},
   "outputs": [
    {
     "name": "stdout",
     "output_type": "stream",
     "text": [
      "0.0625\ta small amount of liquid food\n",
      "0.07142857142857142\tthe act of swallowing\n",
      "0.25\tsmall long-winged songbird noted for swift graceful flight and the regularity of its migrations\n",
      "0.07692307692307693\tpass through the esophagus as part of eating or drinking\n",
      "0.07142857142857142\tengulf and destroy\n",
      "0.06666666666666667\tenclose or envelop completely, as if by swallowing\n",
      "0.0625\tutter indistinctly\n",
      "0.0625\ttake back what one has said\n",
      "0.07142857142857142\tkeep from expressing\n",
      "0.058823529411764705\ttolerate or accommodate oneself to\n",
      "0.0625\tbelieve or accept without questioning or challenge\n",
      "Maximum swallow and bird relatedness: 0.25\n"
     ]
    }
   ],
   "source": [
    "for s in wordnet.synsets('swallow'):\n",
    "    similarity = s.path_similarity(bird)\n",
    "    print('\\t'.join([str(similarity),s.definition()]))\n",
    "    \n",
    "print(\"Maximum swallow and bird relatedness: \"+str(relatedness(\"Swallow\", bird)))"
   ]
  },
  {
   "cell_type": "code",
   "execution_count": 21,
   "metadata": {},
   "outputs": [
    {
     "name": "stdout",
     "output_type": "stream",
     "text": [
      "['the essential qualities or characteristics by which something is recognized', 'a causal agent creating and controlling things in the universe', 'the natural physical world including plants and animals and landscapes etc.', \"the complex of emotional and intellectual attributes that determine a person's characteristic actions and reactions\", 'a particular type of thing']\n"
     ]
    }
   ],
   "source": [
    "print([s.definition() for s in wordnet.synsets('nature')])\n",
    "nature = wordnet.synsets('nature')[2]"
   ]
  },
  {
   "cell_type": "markdown",
   "metadata": {},
   "source": [
    "### Onto the task..."
   ]
  },
  {
   "cell_type": "markdown",
   "metadata": {},
   "source": [
    "Add naturesense to names dataframe"
   ]
  },
  {
   "cell_type": "code",
   "execution_count": 22,
   "metadata": {},
   "outputs": [
    {
     "name": "stderr",
     "output_type": "stream",
     "text": [
      "/var/folders/mm/6ktdv6513cqg7_jcc9vz26j00000gn/T/ipykernel_65394/1235787097.py:1: SettingWithCopyWarning: \n",
      "A value is trying to be set on a copy of a slice from a DataFrame.\n",
      "Try using .loc[row_indexer,col_indexer] = value instead\n",
      "\n",
      "See the caveats in the documentation: https://pandas.pydata.org/pandas-docs/stable/user_guide/indexing.html#returning-a-view-versus-a-copy\n",
      "  namesdf['naturesense'] = namesdf.name.apply(lambda x: relatedness(x, nature))\n"
     ]
    },
    {
     "data": {
      "text/html": [
       "<div>\n",
       "<style scoped>\n",
       "    .dataframe tbody tr th:only-of-type {\n",
       "        vertical-align: middle;\n",
       "    }\n",
       "\n",
       "    .dataframe tbody tr th {\n",
       "        vertical-align: top;\n",
       "    }\n",
       "\n",
       "    .dataframe thead th {\n",
       "        text-align: right;\n",
       "    }\n",
       "</style>\n",
       "<table border=\"1\" class=\"dataframe\">\n",
       "  <thead>\n",
       "    <tr style=\"text-align: right;\">\n",
       "      <th></th>\n",
       "      <th>name</th>\n",
       "      <th>sex</th>\n",
       "      <th>current</th>\n",
       "      <th>number</th>\n",
       "      <th>naturesense</th>\n",
       "    </tr>\n",
       "  </thead>\n",
       "  <tbody>\n",
       "    <tr>\n",
       "      <th>16</th>\n",
       "      <td>Aaden</td>\n",
       "      <td>M</td>\n",
       "      <td>True</td>\n",
       "      <td>4993</td>\n",
       "      <td>0.0</td>\n",
       "    </tr>\n",
       "    <tr>\n",
       "      <th>28</th>\n",
       "      <td>Aadhya</td>\n",
       "      <td>F</td>\n",
       "      <td>True</td>\n",
       "      <td>2408</td>\n",
       "      <td>0.0</td>\n",
       "    </tr>\n",
       "    <tr>\n",
       "      <th>33</th>\n",
       "      <td>Aadi</td>\n",
       "      <td>M</td>\n",
       "      <td>True</td>\n",
       "      <td>988</td>\n",
       "      <td>0.0</td>\n",
       "    </tr>\n",
       "    <tr>\n",
       "      <th>41</th>\n",
       "      <td>Aadit</td>\n",
       "      <td>M</td>\n",
       "      <td>True</td>\n",
       "      <td>442</td>\n",
       "      <td>0.0</td>\n",
       "    </tr>\n",
       "    <tr>\n",
       "      <th>46</th>\n",
       "      <td>Aaditya</td>\n",
       "      <td>M</td>\n",
       "      <td>True</td>\n",
       "      <td>577</td>\n",
       "      <td>0.0</td>\n",
       "    </tr>\n",
       "  </tbody>\n",
       "</table>\n",
       "</div>"
      ],
      "text/plain": [
       "       name sex  current  number  naturesense\n",
       "16    Aaden   M     True    4993          0.0\n",
       "28   Aadhya   F     True    2408          0.0\n",
       "33     Aadi   M     True     988          0.0\n",
       "41    Aadit   M     True     442          0.0\n",
       "46  Aaditya   M     True     577          0.0"
      ]
     },
     "execution_count": 22,
     "metadata": {},
     "output_type": "execute_result"
    }
   ],
   "source": [
    "namesdf['naturesense'] = namesdf.name.apply(lambda x: relatedness(x, nature))\n",
    "namesdf.head()"
   ]
  },
  {
   "cell_type": "code",
   "execution_count": 23,
   "metadata": {},
   "outputs": [
    {
     "data": {
      "text/html": [
       "<div>\n",
       "<style scoped>\n",
       "    .dataframe tbody tr th:only-of-type {\n",
       "        vertical-align: middle;\n",
       "    }\n",
       "\n",
       "    .dataframe tbody tr th {\n",
       "        vertical-align: top;\n",
       "    }\n",
       "\n",
       "    .dataframe thead th {\n",
       "        text-align: right;\n",
       "    }\n",
       "</style>\n",
       "<table border=\"1\" class=\"dataframe\">\n",
       "  <thead>\n",
       "    <tr style=\"text-align: right;\">\n",
       "      <th></th>\n",
       "      <th>name</th>\n",
       "      <th>sex</th>\n",
       "      <th>current</th>\n",
       "      <th>number</th>\n",
       "      <th>naturesense</th>\n",
       "    </tr>\n",
       "  </thead>\n",
       "  <tbody>\n",
       "    <tr>\n",
       "      <th>122675</th>\n",
       "      <td>Rock</td>\n",
       "      <td>M</td>\n",
       "      <td>True</td>\n",
       "      <td>431</td>\n",
       "      <td>0.250000</td>\n",
       "    </tr>\n",
       "    <tr>\n",
       "      <th>136109</th>\n",
       "      <td>Stone</td>\n",
       "      <td>M</td>\n",
       "      <td>True</td>\n",
       "      <td>3489</td>\n",
       "      <td>0.250000</td>\n",
       "    </tr>\n",
       "    <tr>\n",
       "      <th>29542</th>\n",
       "      <td>Clay</td>\n",
       "      <td>M</td>\n",
       "      <td>True</td>\n",
       "      <td>6411</td>\n",
       "      <td>0.200000</td>\n",
       "    </tr>\n",
       "    <tr>\n",
       "      <th>115726</th>\n",
       "      <td>Perseus</td>\n",
       "      <td>M</td>\n",
       "      <td>True</td>\n",
       "      <td>801</td>\n",
       "      <td>0.200000</td>\n",
       "    </tr>\n",
       "    <tr>\n",
       "      <th>41793</th>\n",
       "      <td>Draco</td>\n",
       "      <td>M</td>\n",
       "      <td>True</td>\n",
       "      <td>873</td>\n",
       "      <td>0.200000</td>\n",
       "    </tr>\n",
       "    <tr>\n",
       "      <th>...</th>\n",
       "      <td>...</td>\n",
       "      <td>...</td>\n",
       "      <td>...</td>\n",
       "      <td>...</td>\n",
       "      <td>...</td>\n",
       "    </tr>\n",
       "    <tr>\n",
       "      <th>53906</th>\n",
       "      <td>Gryphon</td>\n",
       "      <td>M</td>\n",
       "      <td>True</td>\n",
       "      <td>482</td>\n",
       "      <td>0.058824</td>\n",
       "    </tr>\n",
       "    <tr>\n",
       "      <th>99198</th>\n",
       "      <td>Marlin</td>\n",
       "      <td>M</td>\n",
       "      <td>True</td>\n",
       "      <td>1530</td>\n",
       "      <td>0.055556</td>\n",
       "    </tr>\n",
       "    <tr>\n",
       "      <th>99196</th>\n",
       "      <td>Marlin</td>\n",
       "      <td>F</td>\n",
       "      <td>True</td>\n",
       "      <td>451</td>\n",
       "      <td>0.055556</td>\n",
       "    </tr>\n",
       "    <tr>\n",
       "      <th>142660</th>\n",
       "      <td>Tia</td>\n",
       "      <td>F</td>\n",
       "      <td>True</td>\n",
       "      <td>5611</td>\n",
       "      <td>0.050000</td>\n",
       "    </tr>\n",
       "    <tr>\n",
       "      <th>92774</th>\n",
       "      <td>Lorelei</td>\n",
       "      <td>F</td>\n",
       "      <td>True</td>\n",
       "      <td>10253</td>\n",
       "      <td>0.050000</td>\n",
       "    </tr>\n",
       "  </tbody>\n",
       "</table>\n",
       "<p>1743 rows × 5 columns</p>\n",
       "</div>"
      ],
      "text/plain": [
       "           name sex  current  number  naturesense\n",
       "122675     Rock   M     True     431     0.250000\n",
       "136109    Stone   M     True    3489     0.250000\n",
       "29542      Clay   M     True    6411     0.200000\n",
       "115726  Perseus   M     True     801     0.200000\n",
       "41793     Draco   M     True     873     0.200000\n",
       "...         ...  ..      ...     ...          ...\n",
       "53906   Gryphon   M     True     482     0.058824\n",
       "99198    Marlin   M     True    1530     0.055556\n",
       "99196    Marlin   F     True     451     0.055556\n",
       "142660      Tia   F     True    5611     0.050000\n",
       "92774   Lorelei   F     True   10253     0.050000\n",
       "\n",
       "[1743 rows x 5 columns]"
      ]
     },
     "execution_count": 23,
     "metadata": {},
     "output_type": "execute_result"
    }
   ],
   "source": [
    "namesdf[namesdf.naturesense > 0].sort_values('naturesense', ascending=False)"
   ]
  },
  {
   "cell_type": "code",
   "execution_count": 24,
   "metadata": {},
   "outputs": [],
   "source": [
    "def isUnisex (name, namesdf):\n",
    "    return (len(namesdf[namesdf.name==name]) > 1)"
   ]
  },
  {
   "cell_type": "code",
   "execution_count": 25,
   "metadata": {},
   "outputs": [
    {
     "name": "stderr",
     "output_type": "stream",
     "text": [
      "/var/folders/mm/6ktdv6513cqg7_jcc9vz26j00000gn/T/ipykernel_65394/1966693829.py:1: SettingWithCopyWarning: \n",
      "A value is trying to be set on a copy of a slice from a DataFrame.\n",
      "Try using .loc[row_indexer,col_indexer] = value instead\n",
      "\n",
      "See the caveats in the documentation: https://pandas.pydata.org/pandas-docs/stable/user_guide/indexing.html#returning-a-view-versus-a-copy\n",
      "  namesdf['unisex'] = namesdf.name.apply(lambda x: isUnisex(x, namesdf))\n"
     ]
    }
   ],
   "source": [
    "namesdf['unisex'] = namesdf.name.apply(lambda x: isUnisex(x, namesdf))"
   ]
  },
  {
   "cell_type": "code",
   "execution_count": 26,
   "metadata": {},
   "outputs": [],
   "source": [
    "candidates = namesdf[namesdf.unisex & (namesdf.naturesense > 0)].sort_values('number', ascending=False).name.unique()"
   ]
  },
  {
   "cell_type": "code",
   "execution_count": 27,
   "metadata": {},
   "outputs": [
    {
     "data": {
      "text/plain": [
       "array(['Jackson', 'Gabriel', 'Dylan', 'Christian', 'Tyler', 'Owen',\n",
       "       'Carter', 'Wyatt', 'Angel', 'Hunter', 'Julian', 'Jordan', 'Aaron',\n",
       "       'Austin', 'Adrian', 'Levi', 'Harper', 'Riley', 'Taylor',\n",
       "       'Brooklyn', 'Chase', 'Carson', 'Cooper', 'Parker', 'Blake',\n",
       "       'Sydney', 'Hudson', 'Tristan', 'Mackenzie', 'Morgan', 'Lincoln',\n",
       "       'Kennedy', 'Genesis', 'Micah', 'Ashton', 'Trinity', 'Ezra', 'Max',\n",
       "       'Maxwell', 'Bailey', 'Wesley', 'Jade', 'Brady', 'Jonah', 'Reagan',\n",
       "       'Sawyer', 'Cody', 'Camden', 'Maverick', 'Tanner', 'Kendall',\n",
       "       'Jude', 'Bennett', 'Bradley', 'London', 'Eden', 'Spencer', 'Zion',\n",
       "       'Israel', 'Rowan', 'Erin', 'Emery', 'Beau', 'Nova', 'Dawson',\n",
       "       'Dakota', 'Jasper', 'Brooks', 'Chance', 'Emerson', 'Marley',\n",
       "       'August', 'Judah', 'Presley', 'River', 'Drew', 'Lane', 'Paxton',\n",
       "       'Paris', 'Kelly', 'Dallas', 'Cadence', 'Beckett', 'Devon', 'Reid',\n",
       "       'Walker', 'Messiah', 'Anderson', 'Aden', 'Phoenix', 'Ali', 'Sage',\n",
       "       'Tatum', 'Kali', 'Legend', 'Journey', 'Lyric', 'Nehemiah', 'Aspen',\n",
       "       'Reed', 'Haven', 'Tate', 'Raven', 'Noel', 'Chandler', 'Keaton',\n",
       "       'Davis', 'Porter', 'Justice', 'Atlas', 'Jensen', 'Ellis',\n",
       "       'Jamison', 'Diamond', 'Dorian', 'Mckinley', 'Hayes', 'Sullivan',\n",
       "       'Harlow', 'Shannon', 'Dana', 'Quincy', 'Hendrix', 'Sterling',\n",
       "       'Winter', 'Sidney', 'Shiloh', 'Blair', 'Boston', 'Memphis',\n",
       "       'Milan', 'Oakley', 'Sincere', 'Toby', 'Wren', 'Uriah', 'Lennon',\n",
       "       'Lee', 'Royal', 'Aryan', 'Madden', 'Sky', 'Collins', 'Zaire',\n",
       "       'Sonny', 'Campbell', 'Ivory', 'Dominique', 'Kendal', 'Reign',\n",
       "       'Monroe', 'Denver', 'Robin', 'Palmer', 'Holland', 'Ellison',\n",
       "       'Miller', 'Briar', 'Sunny', 'Jean', 'Grey', 'Dior', 'Legacy',\n",
       "       'Scout', 'Egypt', 'Salem', 'Ira', 'Eliot', 'Montana', 'Perry',\n",
       "       'Shay', 'Onyx', 'Sami', 'Tracy', 'Ever', 'Aries', 'Chevy',\n",
       "       'Sailor', 'Loren', 'Austen', 'Harlem', 'Rio', 'Murphy', 'Brighton',\n",
       "       'Ocean', 'Rain', 'Indigo', 'Gray', 'Osiris', 'Raleigh', 'Seven',\n",
       "       'Sol', 'Rosario', 'Denim', 'Artemis', 'Majesty', 'Gentry',\n",
       "       'Everest', 'Honor', 'Divine', 'Cedar', 'Marlin', 'Tai', 'Wylie',\n",
       "       'Shia', 'Amor', 'Bowie', 'Auden', 'Linden', 'Lux', 'Storm',\n",
       "       'Krishna', 'Lake', 'Unknown', 'Arrow', 'True', 'Rivers', 'Denali',\n",
       "       'Indiana', 'Charleston', 'Ridley', 'Baby', 'Lexington', 'Truth',\n",
       "       'Lakota', 'Tory', 'Christen', 'Amen', 'Rebel', 'Timber', 'Scottie',\n",
       "       'Crimson', 'Ellington', 'Kit', 'Cree', 'Nazareth', 'Valentine',\n",
       "       'Wisdom', 'Cypress', 'Seneca', 'An', 'Britain'], dtype=object)"
      ]
     },
     "execution_count": 27,
     "metadata": {},
     "output_type": "execute_result"
    }
   ],
   "source": [
    "# candidates\n",
    "candidates"
   ]
  },
  {
   "cell_type": "markdown",
   "metadata": {},
   "source": [
    "With all due respect e.g. to Jimi Hendrix, some names in the list are questionable and/or problematic. So further curation is needed."
   ]
  },
  {
   "cell_type": "code",
   "execution_count": 28,
   "metadata": {},
   "outputs": [
    {
     "name": "stdout",
     "output_type": "stream",
     "text": [
      "0.08333333333333333\tUnited States guitarist whose innovative style with electric guitars influenced the development of rock music (1942-1970)\n"
     ]
    }
   ],
   "source": [
    "for s in wordnet.synsets('Hendrix'):\n",
    "    similarity = s.path_similarity(nature)\n",
    "    print('\\t'.join([str(similarity),s.definition()]))"
   ]
  },
  {
   "cell_type": "markdown",
   "metadata": {},
   "source": [
    "### Just for fun\n",
    "\n",
    "It might be fun to see if there are any trends in terms of naming with respect to nature-y names."
   ]
  },
  {
   "cell_type": "code",
   "execution_count": 29,
   "metadata": {},
   "outputs": [
    {
     "data": {
      "text/html": [
       "<div>\n",
       "<style scoped>\n",
       "    .dataframe tbody tr th:only-of-type {\n",
       "        vertical-align: middle;\n",
       "    }\n",
       "\n",
       "    .dataframe tbody tr th {\n",
       "        vertical-align: top;\n",
       "    }\n",
       "\n",
       "    .dataframe thead th {\n",
       "        text-align: right;\n",
       "    }\n",
       "</style>\n",
       "<table border=\"1\" class=\"dataframe\">\n",
       "  <thead>\n",
       "    <tr style=\"text-align: right;\">\n",
       "      <th></th>\n",
       "      <th>name</th>\n",
       "      <th>sex</th>\n",
       "      <th>number</th>\n",
       "      <th>year</th>\n",
       "      <th>current</th>\n",
       "      <th>naturesense</th>\n",
       "    </tr>\n",
       "  </thead>\n",
       "  <tbody>\n",
       "    <tr>\n",
       "      <th>0</th>\n",
       "      <td>Emily</td>\n",
       "      <td>F</td>\n",
       "      <td>25957</td>\n",
       "      <td>2000</td>\n",
       "      <td>False</td>\n",
       "      <td>0.0</td>\n",
       "    </tr>\n",
       "    <tr>\n",
       "      <th>1</th>\n",
       "      <td>Emily</td>\n",
       "      <td>M</td>\n",
       "      <td>30</td>\n",
       "      <td>2000</td>\n",
       "      <td>False</td>\n",
       "      <td>0.0</td>\n",
       "    </tr>\n",
       "    <tr>\n",
       "      <th>2</th>\n",
       "      <td>Emily</td>\n",
       "      <td>F</td>\n",
       "      <td>12654</td>\n",
       "      <td>2014</td>\n",
       "      <td>True</td>\n",
       "      <td>0.0</td>\n",
       "    </tr>\n",
       "    <tr>\n",
       "      <th>3</th>\n",
       "      <td>Emily</td>\n",
       "      <td>M</td>\n",
       "      <td>11</td>\n",
       "      <td>2014</td>\n",
       "      <td>True</td>\n",
       "      <td>0.0</td>\n",
       "    </tr>\n",
       "    <tr>\n",
       "      <th>4</th>\n",
       "      <td>Emily</td>\n",
       "      <td>F</td>\n",
       "      <td>1308</td>\n",
       "      <td>1938</td>\n",
       "      <td>False</td>\n",
       "      <td>0.0</td>\n",
       "    </tr>\n",
       "  </tbody>\n",
       "</table>\n",
       "</div>"
      ],
      "text/plain": [
       "    name sex  number  year  current  naturesense\n",
       "0  Emily   F   25957  2000    False          0.0\n",
       "1  Emily   M      30  2000    False          0.0\n",
       "2  Emily   F   12654  2014     True          0.0\n",
       "3  Emily   M      11  2014     True          0.0\n",
       "4  Emily   F    1308  1938    False          0.0"
      ]
     },
     "execution_count": 29,
     "metadata": {},
     "output_type": "execute_result"
    }
   ],
   "source": [
    "trenddf = allnamesdf.merge(namesdf[['name','naturesense']], on='name')\n",
    "trenddf.head()"
   ]
  },
  {
   "cell_type": "code",
   "execution_count": 30,
   "metadata": {},
   "outputs": [
    {
     "data": {
      "text/html": [
       "<div>\n",
       "<style scoped>\n",
       "    .dataframe tbody tr th:only-of-type {\n",
       "        vertical-align: middle;\n",
       "    }\n",
       "\n",
       "    .dataframe tbody tr th {\n",
       "        vertical-align: top;\n",
       "    }\n",
       "\n",
       "    .dataframe thead th {\n",
       "        text-align: right;\n",
       "    }\n",
       "</style>\n",
       "<table border=\"1\" class=\"dataframe\">\n",
       "  <thead>\n",
       "    <tr style=\"text-align: right;\">\n",
       "      <th></th>\n",
       "      <th>name</th>\n",
       "      <th>sex</th>\n",
       "      <th>number</th>\n",
       "      <th>year</th>\n",
       "      <th>current</th>\n",
       "      <th>naturesense</th>\n",
       "      <th>naturesense_bin</th>\n",
       "    </tr>\n",
       "  </thead>\n",
       "  <tbody>\n",
       "    <tr>\n",
       "      <th>0</th>\n",
       "      <td>Emily</td>\n",
       "      <td>F</td>\n",
       "      <td>25957</td>\n",
       "      <td>2000</td>\n",
       "      <td>False</td>\n",
       "      <td>0.0</td>\n",
       "      <td>none</td>\n",
       "    </tr>\n",
       "    <tr>\n",
       "      <th>1</th>\n",
       "      <td>Emily</td>\n",
       "      <td>M</td>\n",
       "      <td>30</td>\n",
       "      <td>2000</td>\n",
       "      <td>False</td>\n",
       "      <td>0.0</td>\n",
       "      <td>none</td>\n",
       "    </tr>\n",
       "    <tr>\n",
       "      <th>2</th>\n",
       "      <td>Emily</td>\n",
       "      <td>F</td>\n",
       "      <td>12654</td>\n",
       "      <td>2014</td>\n",
       "      <td>True</td>\n",
       "      <td>0.0</td>\n",
       "      <td>none</td>\n",
       "    </tr>\n",
       "    <tr>\n",
       "      <th>3</th>\n",
       "      <td>Emily</td>\n",
       "      <td>M</td>\n",
       "      <td>11</td>\n",
       "      <td>2014</td>\n",
       "      <td>True</td>\n",
       "      <td>0.0</td>\n",
       "      <td>none</td>\n",
       "    </tr>\n",
       "    <tr>\n",
       "      <th>4</th>\n",
       "      <td>Emily</td>\n",
       "      <td>F</td>\n",
       "      <td>1308</td>\n",
       "      <td>1938</td>\n",
       "      <td>False</td>\n",
       "      <td>0.0</td>\n",
       "      <td>none</td>\n",
       "    </tr>\n",
       "  </tbody>\n",
       "</table>\n",
       "</div>"
      ],
      "text/plain": [
       "    name sex  number  year  current  naturesense naturesense_bin\n",
       "0  Emily   F   25957  2000    False          0.0            none\n",
       "1  Emily   M      30  2000    False          0.0            none\n",
       "2  Emily   F   12654  2014     True          0.0            none\n",
       "3  Emily   M      11  2014     True          0.0            none\n",
       "4  Emily   F    1308  1938    False          0.0            none"
      ]
     },
     "execution_count": 30,
     "metadata": {},
     "output_type": "execute_result"
    }
   ],
   "source": [
    "trenddf['naturesense_bin'] = trenddf.naturesense.apply(lambda x: 'high' if x > 0.1 else ('low' if x > 0 else 'none'))\n",
    "trenddf.head()"
   ]
  },
  {
   "cell_type": "code",
   "execution_count": 31,
   "metadata": {},
   "outputs": [
    {
     "data": {
      "text/html": [
       "<div>\n",
       "<style scoped>\n",
       "    .dataframe tbody tr th:only-of-type {\n",
       "        vertical-align: middle;\n",
       "    }\n",
       "\n",
       "    .dataframe tbody tr th {\n",
       "        vertical-align: top;\n",
       "    }\n",
       "\n",
       "    .dataframe thead th {\n",
       "        text-align: right;\n",
       "    }\n",
       "</style>\n",
       "<table border=\"1\" class=\"dataframe\">\n",
       "  <thead>\n",
       "    <tr style=\"text-align: right;\">\n",
       "      <th></th>\n",
       "      <th>year</th>\n",
       "      <th>name</th>\n",
       "      <th>sex</th>\n",
       "      <th>number</th>\n",
       "      <th>current</th>\n",
       "      <th>naturesense</th>\n",
       "      <th>naturesense_bin</th>\n",
       "    </tr>\n",
       "  </thead>\n",
       "  <tbody>\n",
       "    <tr>\n",
       "      <th>0</th>\n",
       "      <td>1880</td>\n",
       "      <td>1410</td>\n",
       "      <td>1410</td>\n",
       "      <td>1410</td>\n",
       "      <td>1410</td>\n",
       "      <td>1410</td>\n",
       "      <td>1410</td>\n",
       "    </tr>\n",
       "    <tr>\n",
       "      <th>1</th>\n",
       "      <td>1881</td>\n",
       "      <td>1372</td>\n",
       "      <td>1372</td>\n",
       "      <td>1372</td>\n",
       "      <td>1372</td>\n",
       "      <td>1372</td>\n",
       "      <td>1372</td>\n",
       "    </tr>\n",
       "    <tr>\n",
       "      <th>2</th>\n",
       "      <td>1882</td>\n",
       "      <td>1448</td>\n",
       "      <td>1448</td>\n",
       "      <td>1448</td>\n",
       "      <td>1448</td>\n",
       "      <td>1448</td>\n",
       "      <td>1448</td>\n",
       "    </tr>\n",
       "    <tr>\n",
       "      <th>3</th>\n",
       "      <td>1883</td>\n",
       "      <td>1425</td>\n",
       "      <td>1425</td>\n",
       "      <td>1425</td>\n",
       "      <td>1425</td>\n",
       "      <td>1425</td>\n",
       "      <td>1425</td>\n",
       "    </tr>\n",
       "    <tr>\n",
       "      <th>4</th>\n",
       "      <td>1884</td>\n",
       "      <td>1501</td>\n",
       "      <td>1501</td>\n",
       "      <td>1501</td>\n",
       "      <td>1501</td>\n",
       "      <td>1501</td>\n",
       "      <td>1501</td>\n",
       "    </tr>\n",
       "  </tbody>\n",
       "</table>\n",
       "</div>"
      ],
      "text/plain": [
       "   year  name   sex  number  current  naturesense  naturesense_bin\n",
       "0  1880  1410  1410    1410     1410         1410             1410\n",
       "1  1881  1372  1372    1372     1372         1372             1372\n",
       "2  1882  1448  1448    1448     1448         1448             1448\n",
       "3  1883  1425  1425    1425     1425         1425             1425\n",
       "4  1884  1501  1501    1501     1501         1501             1501"
      ]
     },
     "execution_count": 31,
     "metadata": {},
     "output_type": "execute_result"
    }
   ],
   "source": [
    "totalsdf = trenddf.groupby(['year']).count().reset_index()\n",
    "totalsdf.head()"
   ]
  },
  {
   "cell_type": "code",
   "execution_count": 32,
   "metadata": {},
   "outputs": [
    {
     "data": {
      "text/html": [
       "<div>\n",
       "<style scoped>\n",
       "    .dataframe tbody tr th:only-of-type {\n",
       "        vertical-align: middle;\n",
       "    }\n",
       "\n",
       "    .dataframe tbody tr th {\n",
       "        vertical-align: top;\n",
       "    }\n",
       "\n",
       "    .dataframe thead th {\n",
       "        text-align: right;\n",
       "    }\n",
       "</style>\n",
       "<table border=\"1\" class=\"dataframe\">\n",
       "  <thead>\n",
       "    <tr style=\"text-align: right;\">\n",
       "      <th></th>\n",
       "      <th>year</th>\n",
       "      <th>naturesense_bin</th>\n",
       "      <th>name</th>\n",
       "      <th>sex</th>\n",
       "      <th>number</th>\n",
       "      <th>current</th>\n",
       "      <th>naturesense</th>\n",
       "    </tr>\n",
       "  </thead>\n",
       "  <tbody>\n",
       "    <tr>\n",
       "      <th>0</th>\n",
       "      <td>1880</td>\n",
       "      <td>high</td>\n",
       "      <td>135</td>\n",
       "      <td>135</td>\n",
       "      <td>135</td>\n",
       "      <td>135</td>\n",
       "      <td>135</td>\n",
       "    </tr>\n",
       "    <tr>\n",
       "      <th>1</th>\n",
       "      <td>1880</td>\n",
       "      <td>low</td>\n",
       "      <td>475</td>\n",
       "      <td>475</td>\n",
       "      <td>475</td>\n",
       "      <td>475</td>\n",
       "      <td>475</td>\n",
       "    </tr>\n",
       "    <tr>\n",
       "      <th>2</th>\n",
       "      <td>1880</td>\n",
       "      <td>none</td>\n",
       "      <td>800</td>\n",
       "      <td>800</td>\n",
       "      <td>800</td>\n",
       "      <td>800</td>\n",
       "      <td>800</td>\n",
       "    </tr>\n",
       "    <tr>\n",
       "      <th>3</th>\n",
       "      <td>1881</td>\n",
       "      <td>high</td>\n",
       "      <td>129</td>\n",
       "      <td>129</td>\n",
       "      <td>129</td>\n",
       "      <td>129</td>\n",
       "      <td>129</td>\n",
       "    </tr>\n",
       "    <tr>\n",
       "      <th>4</th>\n",
       "      <td>1881</td>\n",
       "      <td>low</td>\n",
       "      <td>480</td>\n",
       "      <td>480</td>\n",
       "      <td>480</td>\n",
       "      <td>480</td>\n",
       "      <td>480</td>\n",
       "    </tr>\n",
       "    <tr>\n",
       "      <th>...</th>\n",
       "      <td>...</td>\n",
       "      <td>...</td>\n",
       "      <td>...</td>\n",
       "      <td>...</td>\n",
       "      <td>...</td>\n",
       "      <td>...</td>\n",
       "      <td>...</td>\n",
       "    </tr>\n",
       "    <tr>\n",
       "      <th>421</th>\n",
       "      <td>2020</td>\n",
       "      <td>low</td>\n",
       "      <td>1940</td>\n",
       "      <td>1940</td>\n",
       "      <td>1940</td>\n",
       "      <td>1940</td>\n",
       "      <td>1940</td>\n",
       "    </tr>\n",
       "    <tr>\n",
       "      <th>422</th>\n",
       "      <td>2020</td>\n",
       "      <td>none</td>\n",
       "      <td>10492</td>\n",
       "      <td>10492</td>\n",
       "      <td>10492</td>\n",
       "      <td>10492</td>\n",
       "      <td>10492</td>\n",
       "    </tr>\n",
       "    <tr>\n",
       "      <th>423</th>\n",
       "      <td>2021</td>\n",
       "      <td>high</td>\n",
       "      <td>658</td>\n",
       "      <td>658</td>\n",
       "      <td>658</td>\n",
       "      <td>658</td>\n",
       "      <td>658</td>\n",
       "    </tr>\n",
       "    <tr>\n",
       "      <th>424</th>\n",
       "      <td>2021</td>\n",
       "      <td>low</td>\n",
       "      <td>1939</td>\n",
       "      <td>1939</td>\n",
       "      <td>1939</td>\n",
       "      <td>1939</td>\n",
       "      <td>1939</td>\n",
       "    </tr>\n",
       "    <tr>\n",
       "      <th>425</th>\n",
       "      <td>2021</td>\n",
       "      <td>none</td>\n",
       "      <td>10441</td>\n",
       "      <td>10441</td>\n",
       "      <td>10441</td>\n",
       "      <td>10441</td>\n",
       "      <td>10441</td>\n",
       "    </tr>\n",
       "  </tbody>\n",
       "</table>\n",
       "<p>426 rows × 7 columns</p>\n",
       "</div>"
      ],
      "text/plain": [
       "     year naturesense_bin   name    sex  number  current  naturesense\n",
       "0    1880            high    135    135     135      135          135\n",
       "1    1880             low    475    475     475      475          475\n",
       "2    1880            none    800    800     800      800          800\n",
       "3    1881            high    129    129     129      129          129\n",
       "4    1881             low    480    480     480      480          480\n",
       "..    ...             ...    ...    ...     ...      ...          ...\n",
       "421  2020             low   1940   1940    1940     1940         1940\n",
       "422  2020            none  10492  10492   10492    10492        10492\n",
       "423  2021            high    658    658     658      658          658\n",
       "424  2021             low   1939   1939    1939     1939         1939\n",
       "425  2021            none  10441  10441   10441    10441        10441\n",
       "\n",
       "[426 rows x 7 columns]"
      ]
     },
     "execution_count": 32,
     "metadata": {},
     "output_type": "execute_result"
    }
   ],
   "source": [
    "trends = trenddf.groupby(['year','naturesense_bin']).count().reset_index()\n",
    "trends"
   ]
  },
  {
   "cell_type": "code",
   "execution_count": 34,
   "metadata": {},
   "outputs": [
    {
     "data": {
      "text/html": [
       "<div>\n",
       "<style scoped>\n",
       "    .dataframe tbody tr th:only-of-type {\n",
       "        vertical-align: middle;\n",
       "    }\n",
       "\n",
       "    .dataframe tbody tr th {\n",
       "        vertical-align: top;\n",
       "    }\n",
       "\n",
       "    .dataframe thead th {\n",
       "        text-align: right;\n",
       "    }\n",
       "</style>\n",
       "<table border=\"1\" class=\"dataframe\">\n",
       "  <thead>\n",
       "    <tr style=\"text-align: right;\">\n",
       "      <th></th>\n",
       "      <th>year</th>\n",
       "      <th>naturesense_bin</th>\n",
       "      <th>name</th>\n",
       "      <th>sex</th>\n",
       "      <th>number</th>\n",
       "      <th>current</th>\n",
       "      <th>naturesense</th>\n",
       "      <th>count_prop</th>\n",
       "    </tr>\n",
       "  </thead>\n",
       "  <tbody>\n",
       "    <tr>\n",
       "      <th>0</th>\n",
       "      <td>1880</td>\n",
       "      <td>high</td>\n",
       "      <td>135</td>\n",
       "      <td>135</td>\n",
       "      <td>135</td>\n",
       "      <td>135</td>\n",
       "      <td>135</td>\n",
       "      <td>0.095745</td>\n",
       "    </tr>\n",
       "    <tr>\n",
       "      <th>1</th>\n",
       "      <td>1880</td>\n",
       "      <td>low</td>\n",
       "      <td>475</td>\n",
       "      <td>475</td>\n",
       "      <td>475</td>\n",
       "      <td>475</td>\n",
       "      <td>475</td>\n",
       "      <td>0.336879</td>\n",
       "    </tr>\n",
       "    <tr>\n",
       "      <th>2</th>\n",
       "      <td>1880</td>\n",
       "      <td>none</td>\n",
       "      <td>800</td>\n",
       "      <td>800</td>\n",
       "      <td>800</td>\n",
       "      <td>800</td>\n",
       "      <td>800</td>\n",
       "      <td>0.567376</td>\n",
       "    </tr>\n",
       "    <tr>\n",
       "      <th>3</th>\n",
       "      <td>1881</td>\n",
       "      <td>high</td>\n",
       "      <td>129</td>\n",
       "      <td>129</td>\n",
       "      <td>129</td>\n",
       "      <td>129</td>\n",
       "      <td>129</td>\n",
       "      <td>0.094023</td>\n",
       "    </tr>\n",
       "    <tr>\n",
       "      <th>4</th>\n",
       "      <td>1881</td>\n",
       "      <td>low</td>\n",
       "      <td>480</td>\n",
       "      <td>480</td>\n",
       "      <td>480</td>\n",
       "      <td>480</td>\n",
       "      <td>480</td>\n",
       "      <td>0.349854</td>\n",
       "    </tr>\n",
       "  </tbody>\n",
       "</table>\n",
       "</div>"
      ],
      "text/plain": [
       "   year naturesense_bin  name  sex  number  current  naturesense  count_prop\n",
       "0  1880            high   135  135     135      135          135    0.095745\n",
       "1  1880             low   475  475     475      475          475    0.336879\n",
       "2  1880            none   800  800     800      800          800    0.567376\n",
       "3  1881            high   129  129     129      129          129    0.094023\n",
       "4  1881             low   480  480     480      480          480    0.349854"
      ]
     },
     "execution_count": 34,
     "metadata": {},
     "output_type": "execute_result"
    }
   ],
   "source": [
    "trends['count_prop'] = trends.apply(lambda x: x.number / int(totalsdf[totalsdf.year==x.year].name), axis=1)\n",
    "trends.head()"
   ]
  },
  {
   "cell_type": "code",
   "execution_count": 35,
   "metadata": {
    "tags": []
   },
   "outputs": [
    {
     "data": {
      "text/plain": [
       "<AxesSubplot:xlabel='year', ylabel='count_prop'>"
      ]
     },
     "execution_count": 35,
     "metadata": {},
     "output_type": "execute_result"
    },
    {
     "data": {
      "image/png": "[encoded data removed]",
      "text/plain": [
       "<Figure size 640x480 with 1 Axes>"
      ]
     },
     "metadata": {},
     "output_type": "display_data"
    }
   ],
   "source": [
    "ax = sns.lineplot(x='year', y='count_prop', hue='naturesense_bin', data=trends)\n",
    "ax.set_xticks(range(0,2021-1880,20))\n",
    "ax"
   ]
  }
 ],
 "metadata": {
  "kernelspec": {
   "display_name": "Python 3 (ipykernel)",
   "language": "python",
   "name": "python3"
  },
  "language_info": {
   "codemirror_mode": {
    "name": "ipython",
    "version": 3
   },
   "file_extension": ".py",
   "mimetype": "text/x-python",
   "name": "python",
   "nbconvert_exporter": "python",
   "pygments_lexer": "ipython3",
   "version": "3.10.6"
  }
 },
 "nbformat": 4,
 "nbformat_minor": 4
}
